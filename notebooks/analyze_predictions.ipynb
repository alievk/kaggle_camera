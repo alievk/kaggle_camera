{
 "cells": [
  {
   "cell_type": "code",
   "execution_count": 1,
   "metadata": {
    "collapsed": true
   },
   "outputs": [],
   "source": [
    "import pandas as pd\n",
    "from pathlib import Path"
   ]
  },
  {
   "cell_type": "code",
   "execution_count": 2,
   "metadata": {
    "collapsed": true
   },
   "outputs": [],
   "source": [
    "root = Path('../output/runs')"
   ]
  },
  {
   "cell_type": "code",
   "execution_count": 3,
   "metadata": {
    "collapsed": true
   },
   "outputs": [],
   "source": [
    "def classes(run):\n",
    "    csv_path = str(root/run/Path('predict_test.csv'))\n",
    "    df = pd.read_csv(csv_path)\n",
    "    pred_counts = df['camera'].value_counts()\n",
    "    pred_counts /= 0.01 * df.shape[0]\n",
    "    return pred_counts"
   ]
  },
  {
   "cell_type": "code",
   "execution_count": 5,
   "metadata": {},
   "outputs": [
    {
     "data": {
      "text/plain": [
       "Motorola-Nexus-6        13.939394\n",
       "Motorola-Droid-Maxx     13.863636\n",
       "Motorola-X              12.613636\n",
       "iPhone-6                10.265152\n",
       "Samsung-Galaxy-Note3     9.469697\n",
       "HTC-1-M7                 9.318182\n",
       "Samsung-Galaxy-S4        8.825758\n",
       "LG-Nexus-5x              8.636364\n",
       "Sony-NEX-7               7.310606\n",
       "iPhone-4s                5.757576\n",
       "Name: camera, dtype: float64"
      ]
     },
     "execution_count": 5,
     "metadata": {},
     "output_type": "execute_result"
    }
   ],
   "source": [
    "classes('resnet50_input_224')"
   ]
  },
  {
   "cell_type": "code",
   "execution_count": 6,
   "metadata": {},
   "outputs": [
    {
     "data": {
      "text/plain": [
       "Motorola-Droid-Maxx     14.280303\n",
       "Motorola-Nexus-6        14.090909\n",
       "Motorola-X              11.931818\n",
       "HTC-1-M7                 9.962121\n",
       "iPhone-6                 9.507576\n",
       "LG-Nexus-5x              9.204545\n",
       "Samsung-Galaxy-S4        9.090909\n",
       "Samsung-Galaxy-Note3     9.015152\n",
       "Sony-NEX-7               8.750000\n",
       "iPhone-4s                4.166667\n",
       "Name: camera, dtype: float64"
      ]
     },
     "execution_count": 6,
     "metadata": {},
     "output_type": "execute_result"
    }
   ],
   "source": [
    "classes('resnet50_input_224_cls_lr_1e-6') # "
   ]
  },
  {
   "cell_type": "code",
   "execution_count": 7,
   "metadata": {},
   "outputs": [
    {
     "data": {
      "text/plain": [
       "Motorola-Droid-Maxx     11.742424\n",
       "Motorola-Nexus-6        11.704545\n",
       "Motorola-X              10.946970\n",
       "HTC-1-M7                10.227273\n",
       "Samsung-Galaxy-S4       10.000000\n",
       "Samsung-Galaxy-Note3     9.810606\n",
       "Sony-NEX-7               9.696970\n",
       "iPhone-6                 9.431818\n",
       "iPhone-4s                8.371212\n",
       "LG-Nexus-5x              8.068182\n",
       "Name: camera, dtype: float64"
      ]
     },
     "execution_count": 7,
     "metadata": {},
     "output_type": "execute_result"
    }
   ],
   "source": [
    "classes('resnet50_+flickr_train_lr_1e-5_pat_6')"
   ]
  },
  {
   "cell_type": "code",
   "execution_count": 8,
   "metadata": {},
   "outputs": [
    {
     "data": {
      "text/plain": [
       "Motorola-Droid-Maxx     11.893939\n",
       "Motorola-Nexus-6        10.946970\n",
       "iPhone-6                10.606061\n",
       "Samsung-Galaxy-S4       10.416667\n",
       "Motorola-X              10.151515\n",
       "Sony-NEX-7              10.113636\n",
       "HTC-1-M7                10.037879\n",
       "iPhone-4s                9.053030\n",
       "Samsung-Galaxy-Note3     8.787879\n",
       "LG-Nexus-5x              7.992424\n",
       "Name: camera, dtype: float64"
      ]
     },
     "execution_count": 8,
     "metadata": {},
     "output_type": "execute_result"
    }
   ],
   "source": [
    "classes('resnet50_+flickr_train_lr_1e-5')"
   ]
  },
  {
   "cell_type": "code",
   "execution_count": 9,
   "metadata": {},
   "outputs": [
    {
     "data": {
      "text/plain": [
       "Motorola-Droid-Maxx     11.780303\n",
       "Motorola-Nexus-6        11.590909\n",
       "Motorola-X              11.098485\n",
       "HTC-1-M7                10.719697\n",
       "Samsung-Galaxy-S4       10.265152\n",
       "iPhone-6                10.113636\n",
       "iPhone-4s                9.280303\n",
       "Sony-NEX-7               8.750000\n",
       "Samsung-Galaxy-Note3     8.750000\n",
       "LG-Nexus-5x              7.651515\n",
       "Name: camera, dtype: float64"
      ]
     },
     "execution_count": 9,
     "metadata": {},
     "output_type": "execute_result"
    }
   ],
   "source": [
    "classes('resnet50_no_fc_train')"
   ]
  },
  {
   "cell_type": "code",
   "execution_count": 13,
   "metadata": {},
   "outputs": [
    {
     "data": {
      "text/plain": [
       "Motorola-Droid-Maxx     12.310606\n",
       "Motorola-Nexus-6        11.212121\n",
       "Samsung-Galaxy-S4       10.757576\n",
       "Motorola-X              10.151515\n",
       "Sony-NEX-7              10.075758\n",
       "iPhone-6                 9.696970\n",
       "iPhone-4s                9.621212\n",
       "Samsung-Galaxy-Note3     9.583333\n",
       "HTC-1-M7                 9.280303\n",
       "LG-Nexus-5x              7.310606\n",
       "Name: camera, dtype: float64"
      ]
     },
     "execution_count": 13,
     "metadata": {},
     "output_type": "execute_result"
    }
   ],
   "source": [
    "classes('resnet50_final_conv_rand_3')"
   ]
  },
  {
   "cell_type": "code",
   "execution_count": 14,
   "metadata": {},
   "outputs": [
    {
     "data": {
      "text/plain": [
       "Motorola-Droid-Maxx     12.007576\n",
       "Motorola-Nexus-6        11.439394\n",
       "Samsung-Galaxy-S4       10.681818\n",
       "Motorola-X              10.151515\n",
       "Samsung-Galaxy-Note3    10.037879\n",
       "iPhone-6                 9.924242\n",
       "Sony-NEX-7               9.507576\n",
       "HTC-1-M7                 9.280303\n",
       "iPhone-4s                9.242424\n",
       "LG-Nexus-5x              7.727273\n",
       "Name: camera, dtype: float64"
      ]
     },
     "execution_count": 14,
     "metadata": {},
     "output_type": "execute_result"
    }
   ],
   "source": [
    "classes('resnet50_repeat_best')"
   ]
  },
  {
   "cell_type": "code",
   "execution_count": 15,
   "metadata": {},
   "outputs": [
    {
     "data": {
      "text/plain": [
       "Motorola-Droid-Maxx     13.333333\n",
       "Motorola-Nexus-6        12.234848\n",
       "Samsung-Galaxy-S4       10.189394\n",
       "Sony-NEX-7              10.000000\n",
       "Motorola-X               9.886364\n",
       "iPhone-6                 9.886364\n",
       "Samsung-Galaxy-Note3     9.393939\n",
       "iPhone-4s                9.166667\n",
       "HTC-1-M7                 8.863636\n",
       "LG-Nexus-5x              7.045455\n",
       "Name: camera, dtype: float64"
      ]
     },
     "execution_count": 15,
     "metadata": {},
     "output_type": "execute_result"
    }
   ],
   "source": [
    "classes('resnet50_add_note3')"
   ]
  },
  {
   "cell_type": "code",
   "execution_count": null,
   "metadata": {
    "collapsed": true
   },
   "outputs": [],
   "source": []
  }
 ],
 "metadata": {
  "kernelspec": {
   "display_name": "kaggle camera env",
   "language": "python",
   "name": "kaggle_camera_env"
  },
  "language_info": {
   "codemirror_mode": {
    "name": "ipython",
    "version": 3
   },
   "file_extension": ".py",
   "mimetype": "text/x-python",
   "name": "python",
   "nbconvert_exporter": "python",
   "pygments_lexer": "ipython3",
   "version": "3.5.2"
  }
 },
 "nbformat": 4,
 "nbformat_minor": 2
}
