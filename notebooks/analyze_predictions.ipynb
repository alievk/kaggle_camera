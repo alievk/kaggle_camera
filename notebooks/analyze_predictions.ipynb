{
 "cells": [
  {
   "cell_type": "code",
   "execution_count": null,
   "metadata": {
    "collapsed": true
   },
   "outputs": [],
   "source": [
    "import pandas as pd\n",
    "import pickle\n",
    "import numpy as np\n",
    "from pathlib import Path\n",
    "from sklearn.metrics import confusion_matrix\n",
    "import matplotlib.pyplot as plt\n",
    "import itertools\n",
    "import shutil\n",
    "\n",
    "%matplotlib inline"
   ]
  },
  {
   "cell_type": "code",
   "execution_count": null,
   "metadata": {
    "collapsed": true
   },
   "outputs": [],
   "source": [
    "root = Path('../output/runs')\n",
    "\n",
    "CLASSES = ['HTC-1-M7', 'LG-Nexus-5x', 'Motorola-Droid-Maxx', 'Motorola-Nexus-6', 'Motorola-X',\n",
    "           'Samsung-Galaxy-Note3', 'Samsung-Galaxy-S4', 'Sony-NEX-7', 'iPhone-4s', 'iPhone-6']"
   ]
  },
  {
   "cell_type": "markdown",
   "metadata": {},
   "source": [
    "# TEST"
   ]
  },
  {
   "cell_type": "code",
   "execution_count": null,
   "metadata": {
    "collapsed": true
   },
   "outputs": [],
   "source": [
    "def atest(run):\n",
    "    csv_path = str(root/run/Path('predict_test.csv'))\n",
    "    df = pd.read_csv(csv_path)\n",
    "    pred_counts = df['camera'].value_counts()\n",
    "    pred_counts /= 0.01 * df.shape[0]\n",
    "\n",
    "    preds, fnames = pickle.load(open(str(root/run/'predict_test_detailed.pkl'),'rb'))\n",
    "    preds, fnames = np.vstack(preds), np.array(fnames)\n",
    "    pred_classes = np.argmax(preds, axis=1)\n",
    "#     for cls, cnt in zip(*np.unique(pred_classes, return_counts=True)):\n",
    "#         print('{}\\n\\t{}\\t{:.2f}%'.format(CLASSES[cls], cnt, 100*cnt / len(preds)))\n",
    "    class_id = CLASSES.index('LG-Nexus-5x')\n",
    "    mask = pred_classes == class_id\n",
    "    class_probs = preds[mask, :].max(axis=1)\n",
    "    plt.hist(class_probs, 50)\n",
    "    \n",
    "    if False:\n",
    "        dst_dir = Path('/tmp/poor_pred')\n",
    "        if dst_dir.exists():\n",
    "            shutil.rmtree(str(dst_dir))\n",
    "        dst_dir.mkdir(exist_ok=True)\n",
    "        for src in fnames[np.bitwise_and(mask, preds[:, class_id] < 4)]:\n",
    "            src = Path(str(src))\n",
    "            shutil.copy(str(Path('../')/src), str(dst_dir/(src.stem+'.png')))\n",
    "    \n",
    "    #class_id = CLASSES.index('Motorola-X')\n",
    "    #mask = pred_classes == class_id\n",
    "    #plt.hist(preds[mask, :].max(axis=1), 50)\n",
    "        \n",
    "    return pred_counts"
   ]
  },
  {
   "cell_type": "code",
   "execution_count": null,
   "metadata": {},
   "outputs": [],
   "source": [
    "atest('resnet50_random_crop')"
   ]
  },
  {
   "cell_type": "code",
   "execution_count": null,
   "metadata": {},
   "outputs": [],
   "source": [
    "atest('resnet50_refine_nexus_5x_no_sea_repeat_4')"
   ]
  },
  {
   "cell_type": "markdown",
   "metadata": {},
   "source": [
    "# VALID"
   ]
  },
  {
   "cell_type": "code",
   "execution_count": null,
   "metadata": {},
   "outputs": [],
   "source": [
    "def plot_confusion_matrix(cm, classes=CLASSES,\n",
    "                          normalize=False,\n",
    "                          title='Confusion matrix',\n",
    "                          cmap=plt.cm.Blues):\n",
    "    \"\"\"\n",
    "    This function prints and plots the confusion matrix.\n",
    "    Normalization can be applied by setting `normalize=True`.\n",
    "    \"\"\"\n",
    "    if normalize:\n",
    "        cm = cm.astype('float') / cm.sum(axis=1)[:, np.newaxis]\n",
    "        print(\"Normalized confusion matrix\")\n",
    "    else:\n",
    "        print('Confusion matrix, without normalization')\n",
    "\n",
    "    #print(cm)\n",
    "\n",
    "    plt.imshow(cm, interpolation='nearest', cmap=cmap)\n",
    "    plt.title(title)\n",
    "    #plt.colorbar()\n",
    "    tick_marks = np.arange(len(classes))\n",
    "    plt.xticks(tick_marks, classes, rotation=45)\n",
    "    plt.yticks(tick_marks, classes)\n",
    "\n",
    "    fmt = '.2f' if normalize else 'd'\n",
    "    thresh = cm.max() / 2.\n",
    "    for i, j in itertools.product(range(cm.shape[0]), range(cm.shape[1])):\n",
    "        plt.text(j, i, format(cm[i, j], fmt),\n",
    "                 horizontalalignment=\"center\",\n",
    "                 color=\"white\" if cm[i, j] > thresh else \"black\")\n",
    "\n",
    "    plt.tight_layout()\n",
    "    plt.ylabel('True label')\n",
    "    plt.xlabel('Predicted label')\n",
    "\n",
    "def avalid(run):\n",
    "    data = pickle.load(open(str(root / run / 'predict_valid.pkl'), 'rb'))\n",
    "    preds, targets, manips = [np.array(d) for d in data]\n",
    "    \n",
    "    mask = manips != -1\n",
    "    acc_manip = np.mean(np.argmax(preds[mask,:], axis=1) == targets[mask])\n",
    "    acc_unalt = np.mean(np.argmax(preds[~mask,:], axis=1) == targets[~mask])\n",
    "    print('Predictions\\t{}'.format(preds.shape[0]))\n",
    "    print('Acc unalt\\t{}\\nAcc manip\\t{}\\nAcc\\t{}'.format(acc_unalt, acc_manip, 0.7*acc_unalt+0.3*acc_manip))\n",
    "    \n",
    "    y_pred = np.argmax(preds, axis=1)\n",
    "    y_true = targets\n",
    "    cnf_matrix = confusion_matrix(y_true, y_pred)\n",
    "    plt.figure(figsize=(8, 8))\n",
    "    plot_confusion_matrix(cnf_matrix, classes=CLASSES, normalize=True)"
   ]
  },
  {
   "cell_type": "code",
   "execution_count": null,
   "metadata": {},
   "outputs": [],
   "source": [
    "avalid('resnet50_refine_nexus_5x_no_sea_repeat_4')"
   ]
  },
  {
   "cell_type": "code",
   "execution_count": null,
   "metadata": {},
   "outputs": [],
   "source": [
    "avalid('resnet50_random_crop')"
   ]
  },
  {
   "cell_type": "code",
   "execution_count": null,
   "metadata": {
    "collapsed": true
   },
   "outputs": [],
   "source": []
  },
  {
   "cell_type": "code",
   "execution_count": null,
   "metadata": {},
   "outputs": [],
   "source": []
  },
  {
   "cell_type": "code",
   "execution_count": null,
   "metadata": {
    "collapsed": true
   },
   "outputs": [],
   "source": []
  }
 ],
 "metadata": {
  "kernelspec": {
   "display_name": "kaggle camera env",
   "language": "python",
   "name": "kaggle_camera_env"
  },
  "language_info": {
   "codemirror_mode": {
    "name": "ipython",
    "version": 3
   },
   "file_extension": ".py",
   "mimetype": "text/x-python",
   "name": "python",
   "nbconvert_exporter": "python",
   "pygments_lexer": "ipython3",
   "version": "3.5.2"
  }
 },
 "nbformat": 4,
 "nbformat_minor": 2
}
