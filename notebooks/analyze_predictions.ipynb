{
 "cells": [
  {
   "cell_type": "code",
   "execution_count": null,
   "metadata": {
    "collapsed": true
   },
   "outputs": [],
   "source": [
    "import pandas as pd\n",
    "import pickle\n",
    "import numpy as np\n",
    "from pathlib import Path\n",
    "from sklearn.metrics import confusion_matrix\n",
    "import matplotlib.pyplot as plt\n",
    "import itertools\n",
    "import shutil\n",
    "\n",
    "%matplotlib inline"
   ]
  },
  {
   "cell_type": "code",
   "execution_count": null,
   "metadata": {
    "collapsed": true
   },
   "outputs": [],
   "source": [
    "root = Path('../output/runs')\n",
    "\n",
    "CLASSES = ['HTC-1-M7', 'LG-Nexus-5x', 'Motorola-Droid-Maxx', 'Motorola-Nexus-6', 'Motorola-X',\n",
    "           'Samsung-Galaxy-Note3', 'Samsung-Galaxy-S4', 'Sony-NEX-7', 'iPhone-4s', 'iPhone-6']"
   ]
  },
  {
   "cell_type": "markdown",
   "metadata": {},
   "source": [
    "# TEST"
   ]
  },
  {
   "cell_type": "code",
   "execution_count": 130,
   "metadata": {
    "collapsed": true
   },
   "outputs": [],
   "source": [
    "def atest(run):\n",
    "    csv_path = str(root/run/Path('predict_test.csv'))\n",
    "    df = pd.read_csv(csv_path)\n",
    "    pred_counts = df['camera'].value_counts()\n",
    "    pred_counts /= 0.01 * df.shape[0]\n",
    "\n",
    "    preds, fnames = pickle.load(open(str(root/run/'predict_test_detailed.pkl'),'rb'))\n",
    "    preds, fnames = np.vstack(preds), np.array(fnames)\n",
    "    pred_classes = np.argmax(preds, axis=1)\n",
    "#     for cls, cnt in zip(*np.unique(pred_classes, return_counts=True)):\n",
    "#         print('{}\\n\\t{}\\t{:.2f}%'.format(CLASSES[cls], cnt, 100*cnt / len(preds)))\n",
    "    class_id = CLASSES.index('LG-Nexus-5x')\n",
    "    mask = pred_classes == class_id\n",
    "    class_probs = preds[mask, :].max(axis=1)\n",
    "    plt.hist(class_probs, 50)\n",
    "    \n",
    "    if True:\n",
    "        dst_dir = Path('/tmp/poor_pred')\n",
    "        if dst_dir.exists():\n",
    "            shutil.rmtree(str(dst_dir))\n",
    "        dst_dir.mkdir(exist_ok=True)\n",
    "        for src in fnames[np.bitwise_and(mask, preds[:, class_id] < 4)]:\n",
    "            src = Path(str(src))\n",
    "            shutil.copy(str(Path('../')/src), str(dst_dir/(src.stem+'.png')))\n",
    "    \n",
    "    #class_id = CLASSES.index('Motorola-X')\n",
    "    #mask = pred_classes == class_id\n",
    "    #plt.hist(preds[mask, :].max(axis=1), 50)\n",
    "        \n",
    "    return pred_counts"
   ]
  },
  {
   "cell_type": "code",
   "execution_count": 121,
   "metadata": {},
   "outputs": [
    {
     "data": {
      "text/plain": [
       "Motorola-Nexus-6        11.590909\n",
       "Motorola-Droid-Maxx     10.643939\n",
       "Motorola-X              10.340909\n",
       "Samsung-Galaxy-Note3    10.340909\n",
       "Samsung-Galaxy-S4       10.227273\n",
       "Sony-NEX-7              10.037879\n",
       "iPhone-4s                9.583333\n",
       "HTC-1-M7                 9.431818\n",
       "iPhone-6                 9.393939\n",
       "LG-Nexus-5x              8.409091\n",
       "Name: camera, dtype: float64"
      ]
     },
     "execution_count": 121,
     "metadata": {},
     "output_type": "execute_result"
    }
   ],
   "source": [
    "atest('resnet50_random_crop')"
   ]
  },
  {
   "cell_type": "code",
   "execution_count": 122,
   "metadata": {},
   "outputs": [
    {
     "data": {
      "text/plain": [
       "Motorola-Droid-Maxx     11.439394\n",
       "Motorola-Nexus-6        11.325758\n",
       "Sony-NEX-7              10.643939\n",
       "Motorola-X              10.416667\n",
       "Samsung-Galaxy-S4       10.378788\n",
       "HTC-1-M7                10.189394\n",
       "Samsung-Galaxy-Note3     9.772727\n",
       "iPhone-6                 9.507576\n",
       "iPhone-4s                9.356061\n",
       "LG-Nexus-5x              6.969697\n",
       "Name: camera, dtype: float64"
      ]
     },
     "execution_count": 122,
     "metadata": {},
     "output_type": "execute_result"
    }
   ],
   "source": [
    "atest('resnet50_random_crop_sometimes_0.3')"
   ]
  },
  {
   "cell_type": "code",
   "execution_count": 123,
   "metadata": {},
   "outputs": [
    {
     "data": {
      "text/plain": [
       "Motorola-Nexus-6        11.780303\n",
       "Motorola-Droid-Maxx     11.401515\n",
       "Motorola-X              10.378788\n",
       "iPhone-4s               10.189394\n",
       "iPhone-6                10.113636\n",
       "Samsung-Galaxy-S4        9.886364\n",
       "HTC-1-M7                 9.734848\n",
       "Samsung-Galaxy-Note3     9.696970\n",
       "Sony-NEX-7               9.583333\n",
       "LG-Nexus-5x              7.234848\n",
       "Name: camera, dtype: float64"
      ]
     },
     "execution_count": 123,
     "metadata": {},
     "output_type": "execute_result"
    }
   ],
   "source": [
    "atest('resnet50_random_crop_sometimes_0.5')"
   ]
  },
  {
   "cell_type": "code",
   "execution_count": 124,
   "metadata": {},
   "outputs": [
    {
     "data": {
      "text/plain": [
       "Motorola-Nexus-6        13.409091\n",
       "Motorola-Droid-Maxx     12.272727\n",
       "Samsung-Galaxy-S4       10.643939\n",
       "Sony-NEX-7              10.606061\n",
       "Motorola-X              10.265152\n",
       "iPhone-6                 9.848485\n",
       "iPhone-4s                9.280303\n",
       "HTC-1-M7                 8.787879\n",
       "Samsung-Galaxy-Note3     8.522727\n",
       "LG-Nexus-5x              6.363636\n",
       "Name: camera, dtype: float64"
      ]
     },
     "execution_count": 124,
     "metadata": {},
     "output_type": "execute_result"
    }
   ],
   "source": [
    "atest('resnet50_adam_lr_1e-3_rand_crop_lr_ch_3')"
   ]
  },
  {
   "cell_type": "code",
   "execution_count": 125,
   "metadata": {},
   "outputs": [
    {
     "data": {
      "text/plain": [
       "Motorola-Droid-Maxx     13.106061\n",
       "Motorola-Nexus-6        11.666667\n",
       "Samsung-Galaxy-S4       10.946970\n",
       "Motorola-X              10.454545\n",
       "Sony-NEX-7              10.265152\n",
       "Samsung-Galaxy-Note3     9.545455\n",
       "iPhone-6                 9.469697\n",
       "HTC-1-M7                 9.242424\n",
       "iPhone-4s                7.954545\n",
       "LG-Nexus-5x              7.348485\n",
       "Name: camera, dtype: float64"
      ]
     },
     "execution_count": 125,
     "metadata": {},
     "output_type": "execute_result"
    }
   ],
   "source": [
    "atest('resnet50_adam_lr_1e-3_rand_crop')"
   ]
  },
  {
   "cell_type": "code",
   "execution_count": 127,
   "metadata": {},
   "outputs": [
    {
     "data": {
      "text/plain": [
       "Motorola-Nexus-6        11.174242\n",
       "Motorola-Droid-Maxx     11.060606\n",
       "Motorola-X              10.378788\n",
       "iPhone-4s               10.303030\n",
       "Samsung-Galaxy-S4       10.265152\n",
       "Samsung-Galaxy-Note3    10.265152\n",
       "HTC-1-M7                10.000000\n",
       "Sony-NEX-7               9.810606\n",
       "iPhone-6                 9.356061\n",
       "LG-Nexus-5x              7.386364\n",
       "Name: camera, dtype: float64"
      ]
     },
     "execution_count": 127,
     "metadata": {},
     "output_type": "execute_result"
    }
   ],
   "source": [
    "atest('resnet50_class_aware')"
   ]
  },
  {
   "cell_type": "code",
   "execution_count": 131,
   "metadata": {},
   "outputs": [
    {
     "data": {
      "text/plain": [
       "Motorola-Nexus-6        11.022727\n",
       "Motorola-Droid-Maxx     10.946970\n",
       "Samsung-Galaxy-Note3    10.681818\n",
       "HTC-1-M7                10.340909\n",
       "Samsung-Galaxy-S4       10.151515\n",
       "iPhone-4s               10.075758\n",
       "Motorola-X              10.075758\n",
       "iPhone-6                10.075758\n",
       "Sony-NEX-7               9.393939\n",
       "LG-Nexus-5x              7.234848\n",
       "Name: camera, dtype: float64"
      ]
     },
     "execution_count": 131,
     "metadata": {},
     "output_type": "execute_result"
    },
    {
     "data": {
      "image/png": "[encoded data removed]",
      "text/plain": [
       "<matplotlib.figure.Figure at 0x7f1efbfc50b8>"
      ]
     },
     "metadata": {},
     "output_type": "display_data"
    }
   ],
   "source": [
    "atest('dense121_512')"
   ]
  },
  {
   "cell_type": "code",
   "execution_count": 135,
   "metadata": {},
   "outputs": [
    {
     "data": {
      "text/plain": [
       "Motorola-Nexus-6        11.742424\n",
       "iPhone-6                10.454545\n",
       "HTC-1-M7                10.303030\n",
       "Motorola-Droid-Maxx     10.265152\n",
       "iPhone-4s               10.227273\n",
       "Samsung-Galaxy-S4       10.151515\n",
       "Samsung-Galaxy-Note3    10.151515\n",
       "Motorola-X              10.037879\n",
       "Sony-NEX-7              10.037879\n",
       "LG-Nexus-5x              6.628788\n",
       "Name: camera, dtype: float64"
      ]
     },
     "execution_count": 135,
     "metadata": {},
     "output_type": "execute_result"
    },
    {
     "data": {
      "image/png": "[encoded data removed]",
      "text/plain": [
       "<matplotlib.figure.Figure at 0x7f1efbd48358>"
      ]
     },
     "metadata": {},
     "output_type": "display_data"
    }
   ],
   "source": [
    "atest('dense121_512_lr_2e-4')"
   ]
  },
  {
   "cell_type": "code",
   "execution_count": 136,
   "metadata": {},
   "outputs": [
    {
     "data": {
      "text/plain": [
       "Motorola-Nexus-6        12.234848\n",
       "Motorola-Droid-Maxx     10.946970\n",
       "Samsung-Galaxy-S4       10.454545\n",
       "Motorola-X              10.265152\n",
       "iPhone-4s               10.151515\n",
       "Samsung-Galaxy-Note3     9.924242\n",
       "Sony-NEX-7               9.848485\n",
       "iPhone-6                 9.696970\n",
       "HTC-1-M7                 9.659091\n",
       "LG-Nexus-5x              6.818182\n",
       "Name: camera, dtype: float64"
      ]
     },
     "execution_count": 136,
     "metadata": {},
     "output_type": "execute_result"
    },
    {
     "data": {
      "image/png": "[encoded data removed]",
      "text/plain": [
       "<matplotlib.figure.Figure at 0x7f1efbf0c240>"
      ]
     },
     "metadata": {},
     "output_type": "display_data"
    }
   ],
   "source": [
    "atest('dense121_mul_fc_lr')"
   ]
  },
  {
   "cell_type": "code",
   "execution_count": 137,
   "metadata": {},
   "outputs": [
    {
     "data": {
      "text/plain": [
       "Motorola-Nexus-6        11.439394\n",
       "Motorola-Droid-Maxx     11.439394\n",
       "Sony-NEX-7              10.492424\n",
       "Motorola-X              10.303030\n",
       "Samsung-Galaxy-Note3    10.151515\n",
       "iPhone-6                10.000000\n",
       "Samsung-Galaxy-S4        9.810606\n",
       "iPhone-4s                9.772727\n",
       "HTC-1-M7                 9.734848\n",
       "LG-Nexus-5x              6.856061\n",
       "Name: camera, dtype: float64"
      ]
     },
     "execution_count": 137,
     "metadata": {},
     "output_type": "execute_result"
    },
    {
     "data": {
      "image/png": "[encoded data removed]",
      "text/plain": [
       "<matplotlib.figure.Figure at 0x7f1f0019e128>"
      ]
     },
     "metadata": {},
     "output_type": "display_data"
    }
   ],
   "source": [
    "atest('dense121_mul_fc_lr_no_rot')"
   ]
  },
  {
   "cell_type": "markdown",
   "metadata": {},
   "source": [
    "# VALID"
   ]
  },
  {
   "cell_type": "code",
   "execution_count": null,
   "metadata": {},
   "outputs": [],
   "source": [
    "def plot_confusion_matrix(cm, classes=CLASSES,\n",
    "                          normalize=False,\n",
    "                          title='Confusion matrix',\n",
    "                          cmap=plt.cm.Blues):\n",
    "    \"\"\"\n",
    "    This function prints and plots the confusion matrix.\n",
    "    Normalization can be applied by setting `normalize=True`.\n",
    "    \"\"\"\n",
    "    if normalize:\n",
    "        cm = cm.astype('float') / cm.sum(axis=1)[:, np.newaxis]\n",
    "        print(\"Normalized confusion matrix\")\n",
    "    else:\n",
    "        print('Confusion matrix, without normalization')\n",
    "\n",
    "    #print(cm)\n",
    "\n",
    "    plt.imshow(cm, interpolation='nearest', cmap=cmap)\n",
    "    plt.title(title)\n",
    "    #plt.colorbar()\n",
    "    tick_marks = np.arange(len(classes))\n",
    "    plt.xticks(tick_marks, classes, rotation=45)\n",
    "    plt.yticks(tick_marks, classes)\n",
    "\n",
    "    fmt = '.2f' if normalize else 'd'\n",
    "    thresh = cm.max() / 2.\n",
    "    for i, j in itertools.product(range(cm.shape[0]), range(cm.shape[1])):\n",
    "        plt.text(j, i, format(cm[i, j], fmt),\n",
    "                 horizontalalignment=\"center\",\n",
    "                 color=\"white\" if cm[i, j] > thresh else \"black\")\n",
    "\n",
    "    plt.tight_layout()\n",
    "    plt.ylabel('True label')\n",
    "    plt.xlabel('Predicted label')\n",
    "\n",
    "def avalid(run):\n",
    "    data = pickle.load(open(str(root / run / 'predict_valid.pkl'), 'rb'))\n",
    "    preds, targets, manips = [np.array(d) for d in data]\n",
    "    \n",
    "    mask = manips != -1\n",
    "    acc_manip = np.mean(np.argmax(preds[mask,:], axis=1) == targets[mask])\n",
    "    acc_unalt = np.mean(np.argmax(preds[~mask,:], axis=1) == targets[~mask])\n",
    "    print('Predictions\\t{}'.format(preds.shape[0]))\n",
    "    print('Acc unalt\\t{}\\nAcc manip\\t{}\\nAcc\\t{}'.format(acc_unalt, acc_manip, 0.7*acc_unalt+0.3*acc_manip))\n",
    "    \n",
    "    y_pred = np.argmax(preds, axis=1)\n",
    "    y_true = targets\n",
    "    cnf_matrix = confusion_matrix(y_true, y_pred)\n",
    "    plt.figure(figsize=(8, 8))\n",
    "    plot_confusion_matrix(cnf_matrix, classes=CLASSES, normalize=True)"
   ]
  },
  {
   "cell_type": "code",
   "execution_count": null,
   "metadata": {},
   "outputs": [],
   "source": [
    "avalid('resnet50_refine_nexus_5x_no_sea_repeat_4')"
   ]
  },
  {
   "cell_type": "code",
   "execution_count": null,
   "metadata": {},
   "outputs": [],
   "source": [
    "avalid('resnet50_random_crop')"
   ]
  },
  {
   "cell_type": "code",
   "execution_count": 134,
   "metadata": {},
   "outputs": [
    {
     "name": "stdout",
     "output_type": "stream",
     "text": [
      "Predictions\t4000\n",
      "Acc unalt\t0.9471991423210936\n",
      "Acc manip\t0.8810408921933085\n",
      "Acc\t0.927351667282758\n",
      "Normalized confusion matrix\n"
     ]
    },
    {
     "data": {
      "image/png": "[encoded data removed]",
      "text/plain": [
       "<matplotlib.figure.Figure at 0x7f1efbf3b978>"
      ]
     },
     "metadata": {},
     "output_type": "display_data"
    }
   ],
   "source": [
    "avalid('dense121_512_lr_2e-4')"
   ]
  },
  {
   "cell_type": "code",
   "execution_count": null,
   "metadata": {},
   "outputs": [],
   "source": []
  },
  {
   "cell_type": "code",
   "execution_count": null,
   "metadata": {
    "collapsed": true
   },
   "outputs": [],
   "source": []
  }
 ],
 "metadata": {
  "kernelspec": {
   "display_name": "kaggle camera env",
   "language": "python",
   "name": "kaggle_camera_env"
  },
  "language_info": {
   "codemirror_mode": {
    "name": "ipython",
    "version": 3
   },
   "file_extension": ".py",
   "mimetype": "text/x-python",
   "name": "python",
   "nbconvert_exporter": "python",
   "pygments_lexer": "ipython3",
   "version": "3.5.2"
  }
 },
 "nbformat": 4,
 "nbformat_minor": 2
}
