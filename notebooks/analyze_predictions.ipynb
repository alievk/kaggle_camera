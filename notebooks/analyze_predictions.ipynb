{
 "cells": [
  {
   "cell_type": "code",
   "execution_count": 1,
   "metadata": {
    "collapsed": true
   },
   "outputs": [],
   "source": [
    "import pandas as pd\n",
    "import pickle\n",
    "import numpy as np\n",
    "from pathlib import Path\n",
    "from sklearn.metrics import confusion_matrix\n",
    "import matplotlib.pyplot as plt\n",
    "import itertools\n",
    "import shutil\n",
    "from torch.nn import Softmax\n",
    "\n",
    "%matplotlib inline"
   ]
  },
  {
   "cell_type": "code",
   "execution_count": 2,
   "metadata": {
    "collapsed": true
   },
   "outputs": [],
   "source": [
    "root = Path('../output/runs')\n",
    "\n",
    "CLASSES = ['HTC-1-M7', 'LG-Nexus-5x', 'Motorola-Droid-Maxx', 'Motorola-Nexus-6', 'Motorola-X',\n",
    "           'Samsung-Galaxy-Note3', 'Samsung-Galaxy-S4', 'Sony-NEX-7', 'iPhone-4s', 'iPhone-6']"
   ]
  },
  {
   "cell_type": "code",
   "execution_count": 3,
   "metadata": {
    "collapsed": true
   },
   "outputs": [],
   "source": [
    "def softmax(x):\n",
    "    \"\"\"Compute softmax values for each sets of scores in x.\"\"\"\n",
    "    e_x = np.exp(x - np.max(x, axis=1, keepdims=True))\n",
    "    return e_x / e_x.sum(axis=1, keepdims=True)"
   ]
  },
  {
   "cell_type": "markdown",
   "metadata": {},
   "source": [
    "# TEST"
   ]
  },
  {
   "cell_type": "code",
   "execution_count": 14,
   "metadata": {
    "collapsed": true
   },
   "outputs": [],
   "source": [
    "def atest_(run, suf=''):\n",
    "    csv_path = str(root/run/Path('predict_test' + suf + '.csv'))\n",
    "    df = pd.read_csv(csv_path)\n",
    "    pred_counts = df['camera'].value_counts()\n",
    "    pred_counts /= 0.01 * df.shape[0]\n",
    "    print(pred_counts)\n",
    "    \n",
    "def atest(run, ):\n",
    "    preds, fnames = pickle.load(open(str(root/run/'predict_test_detailed.pkl'),'rb'))\n",
    "    preds, fnames = np.vstack(preds), np.array(fnames)\n",
    "    preds = softmax(preds)\n",
    "    pred_classes = np.argmax(preds, axis=1)\n",
    "    class_counts = np.unique(pred_classes, return_counts=True)\n",
    "    class_counts = sorted(zip(*class_counts), key=lambda x: x[1])\n",
    "    total_poor_pred = 0\n",
    "    poor_thresh = 0.7\n",
    "    for cls, cnt in class_counts[::-1]:\n",
    "        poor_pred = np.sum(preds[:, cls] < poor_thresh)\n",
    "        total_poor_pred += poor_pred\n",
    "        print('{}\\n\\t{}\\t{:.2f}%\\tpoor:{:.2f}%'.\\\n",
    "              format(CLASSES[cls], cnt, 100*cnt/len(preds), poor_pred/cnt))\n",
    "    print('Total poor predictions: {:.2f}%, threshold {}'.format(total_poor_pred/preds.shape[0], poor_thresh))\n",
    "    \n",
    "    phone = 'LG-Nexus-5x'\n",
    "    class_id = CLASSES.index(phone)\n",
    "    mask = pred_classes == class_id\n",
    "    class_probs = preds[mask, :].max(axis=1)\n",
    "    plt.hist(class_probs, 50)\n",
    "    plt.title(phone)\n",
    "    \n",
    "    if False:\n",
    "        dst_dir = Path('/tmp/poor_pred')\n",
    "        if dst_dir.exists():\n",
    "            shutil.rmtree(str(dst_dir))\n",
    "        dst_dir.mkdir(exist_ok=True)\n",
    "        for src in fnames[np.bitwise_and(mask, preds[:, class_id] < 4)]:\n",
    "            src = Path(str(src))\n",
    "            shutil.copy(str(Path('../')/src), str(dst_dir/(src.stem+'.png')))"
   ]
  },
  {
   "cell_type": "code",
   "execution_count": 37,
   "metadata": {},
   "outputs": [
    {
     "name": "stdout",
     "output_type": "stream",
     "text": [
      "Motorola-Nexus-6        11.401515\n",
      "Samsung-Galaxy-Note3    10.340909\n",
      "HTC-1-M7                10.113636\n",
      "iPhone-6                10.075758\n",
      "Motorola-X              10.075758\n",
      "iPhone-4s               10.037879\n",
      "Motorola-Droid-Maxx     10.037879\n",
      "Samsung-Galaxy-S4        9.962121\n",
      "Sony-NEX-7               9.848485\n",
      "LG-Nexus-5x              8.106061\n",
      "Name: camera, dtype: float64\n"
     ]
    }
   ],
   "source": [
    "atest_('resnet50_final', '_best_tta')"
   ]
  },
  {
   "cell_type": "code",
   "execution_count": 22,
   "metadata": {},
   "outputs": [
    {
     "name": "stdout",
     "output_type": "stream",
     "text": [
      "Motorola-Nexus-6        11.628788\n",
      "Samsung-Galaxy-Note3    11.250000\n",
      "Motorola-X              10.227273\n",
      "HTC-1-M7                10.075758\n",
      "iPhone-6                10.037879\n",
      "iPhone-4s               10.000000\n",
      "Samsung-Galaxy-S4        9.962121\n",
      "Sony-NEX-7               9.696970\n",
      "Motorola-Droid-Maxx      9.659091\n",
      "LG-Nexus-5x              7.462121\n",
      "Name: camera, dtype: float64\n"
     ]
    }
   ],
   "source": [
    "atest_('resnet101_final', '_best')"
   ]
  },
  {
   "cell_type": "code",
   "execution_count": 38,
   "metadata": {},
   "outputs": [
    {
     "name": "stdout",
     "output_type": "stream",
     "text": [
      "Motorola-Nexus-6        11.969697\n",
      "Samsung-Galaxy-Note3    11.363636\n",
      "HTC-1-M7                10.378788\n",
      "Motorola-X              10.303030\n",
      "iPhone-4s               10.151515\n",
      "iPhone-6                10.075758\n",
      "Samsung-Galaxy-S4        9.886364\n",
      "Motorola-Droid-Maxx      9.810606\n",
      "Sony-NEX-7               9.583333\n",
      "LG-Nexus-5x              6.477273\n",
      "Name: camera, dtype: float64\n"
     ]
    }
   ],
   "source": [
    "atest_('densenet121_final', '_best')"
   ]
  },
  {
   "cell_type": "code",
   "execution_count": 31,
   "metadata": {},
   "outputs": [
    {
     "name": "stdout",
     "output_type": "stream",
     "text": [
      "Motorola-Nexus-6        11.704545\n",
      "Samsung-Galaxy-Note3    10.795455\n",
      "Motorola-X              10.227273\n",
      "HTC-1-M7                10.189394\n",
      "iPhone-6                10.000000\n",
      "iPhone-4s                9.962121\n",
      "Samsung-Galaxy-S4        9.924242\n",
      "Motorola-Droid-Maxx      9.810606\n",
      "Sony-NEX-7               9.659091\n",
      "LG-Nexus-5x              7.727273\n",
      "Name: camera, dtype: float64\n"
     ]
    }
   ],
   "source": [
    "atest_('ensemble0')"
   ]
  },
  {
   "cell_type": "code",
   "execution_count": 39,
   "metadata": {},
   "outputs": [
    {
     "name": "stdout",
     "output_type": "stream",
     "text": [
      "Motorola-Nexus-6        11.477273\n",
      "Samsung-Galaxy-Note3    11.098485\n",
      "HTC-1-M7                10.227273\n",
      "iPhone-4s               10.075758\n",
      "iPhone-6                10.075758\n",
      "Motorola-X              10.037879\n",
      "Motorola-Droid-Maxx     10.000000\n",
      "Samsung-Galaxy-S4        9.962121\n",
      "Sony-NEX-7               9.583333\n",
      "LG-Nexus-5x              7.462121\n",
      "Name: camera, dtype: float64\n"
     ]
    }
   ],
   "source": [
    "atest_('ensemble0')"
   ]
  },
  {
   "cell_type": "markdown",
   "metadata": {},
   "source": [
    "# VALID"
   ]
  },
  {
   "cell_type": "code",
   "execution_count": null,
   "metadata": {
    "collapsed": true
   },
   "outputs": [],
   "source": [
    "def plot_confusion_matrix(cm, classes=CLASSES,\n",
    "                          normalize=False,\n",
    "                          title='Confusion matrix',\n",
    "                          cmap=plt.cm.Blues):\n",
    "    \"\"\"\n",
    "    This function prints and plots the confusion matrix.\n",
    "    Normalization can be applied by setting `normalize=True`.\n",
    "    \"\"\"\n",
    "    if normalize:\n",
    "        cm = cm.astype('float') / cm.sum(axis=1)[:, np.newaxis]\n",
    "        print(\"Normalized confusion matrix\")\n",
    "    else:\n",
    "        print('Confusion matrix, without normalization')\n",
    "\n",
    "    #print(cm)\n",
    "\n",
    "    plt.imshow(cm, interpolation='nearest', cmap=cmap)\n",
    "    plt.title(title)\n",
    "    #plt.colorbar()\n",
    "    tick_marks = np.arange(len(classes))\n",
    "    plt.xticks(tick_marks, classes, rotation=45)\n",
    "    plt.yticks(tick_marks, classes)\n",
    "\n",
    "    fmt = '.2f' if normalize else 'd'\n",
    "    thresh = cm.max() / 2.\n",
    "    for i, j in itertools.product(range(cm.shape[0]), range(cm.shape[1])):\n",
    "        plt.text(j, i, format(cm[i, j], fmt),\n",
    "                 horizontalalignment=\"center\",\n",
    "                 color=\"white\" if cm[i, j] > thresh else \"black\")\n",
    "\n",
    "    plt.tight_layout()\n",
    "    plt.ylabel('True label')\n",
    "    plt.xlabel('Predicted label')\n",
    "\n",
    "def avalid(run):\n",
    "    data = pickle.load(open(str(root / run / 'predict_valid.pkl'), 'rb'))\n",
    "    preds, targets, manips = [np.array(d) for d in data]\n",
    "    \n",
    "    mask = manips != -1\n",
    "    acc_manip = np.mean(np.argmax(preds[mask,:], axis=1) == targets[mask])\n",
    "    acc_unalt = np.mean(np.argmax(preds[~mask,:], axis=1) == targets[~mask])\n",
    "    print('Predictions\\t{}'.format(preds.shape[0]))\n",
    "    print('Acc unalt\\t{}\\nAcc manip\\t{}\\nAcc\\t{}'.format(acc_unalt, acc_manip, 0.7*acc_unalt+0.3*acc_manip))\n",
    "    \n",
    "    y_pred = np.argmax(preds, axis=1)\n",
    "    y_true = targets\n",
    "    cnf_matrix = confusion_matrix(y_true, y_pred)\n",
    "    plt.figure(figsize=(8, 8))\n",
    "    plot_confusion_matrix(cnf_matrix, classes=CLASSES, normalize=True)"
   ]
  },
  {
   "cell_type": "code",
   "execution_count": null,
   "metadata": {
    "collapsed": true
   },
   "outputs": [],
   "source": [
    "avalid('resnet50_refine_nexus_5x_no_sea_repeat_4')"
   ]
  },
  {
   "cell_type": "code",
   "execution_count": null,
   "metadata": {
    "collapsed": true
   },
   "outputs": [],
   "source": [
    "avalid('resnet50_random_crop')"
   ]
  },
  {
   "cell_type": "code",
   "execution_count": null,
   "metadata": {
    "collapsed": true
   },
   "outputs": [],
   "source": [
    "avalid('dense121_512_lr_2e-4')"
   ]
  },
  {
   "cell_type": "code",
   "execution_count": null,
   "metadata": {
    "collapsed": true
   },
   "outputs": [],
   "source": []
  },
  {
   "cell_type": "code",
   "execution_count": null,
   "metadata": {
    "collapsed": true
   },
   "outputs": [],
   "source": []
  }
 ],
 "metadata": {
  "kernelspec": {
   "display_name": "kaggle camera env",
   "language": "python",
   "name": "kaggle_camera_env"
  },
  "language_info": {
   "codemirror_mode": {
    "name": "ipython",
    "version": 3
   },
   "file_extension": ".py",
   "mimetype": "text/x-python",
   "name": "python",
   "nbconvert_exporter": "python",
   "pygments_lexer": "ipython3",
   "version": "3.5.2"
  }
 },
 "nbformat": 4,
 "nbformat_minor": 2
}
