{
 "cells": [
  {
   "cell_type": "code",
   "execution_count": 4,
   "metadata": {
    "collapsed": true
   },
   "outputs": [],
   "source": [
    "import cv2\n",
    "import os\n",
    "from pathlib import Path\n",
    "import sys\n",
    "sys.path.append('..')\n",
    "from augmentations import CenterCrop"
   ]
  },
  {
   "cell_type": "code",
   "execution_count": 5,
   "metadata": {
    "collapsed": true
   },
   "outputs": [],
   "source": [
    "CROP = 2048\n",
    "MIN_SIZE = 512"
   ]
  },
  {
   "cell_type": "markdown",
   "metadata": {},
   "source": [
    "### FLICKR"
   ]
  },
  {
   "cell_type": "code",
   "execution_count": 6,
   "metadata": {
    "collapsed": true
   },
   "outputs": [],
   "source": [
    "flickr_root = Path('/mnt/data/kaggle_camera/flickr_images_')\n",
    "flickr_crop_root = Path('../data/external/flickr_images_{}'.format(CROP))\n",
    "\n",
    "try:\n",
    "    flickr_crop_root.mkdir()\n",
    "except FileExistsError:\n",
    "    print('!!! Will overwrite files, is it OK?')\n",
    "    \n",
    "for d in [d for d in flickr_root.iterdir() if d.is_dir()]:\n",
    "    (flickr_crop_root / d.stem).mkdir(exist_ok=True)"
   ]
  },
  {
   "cell_type": "code",
   "execution_count": 7,
   "metadata": {
    "collapsed": true
   },
   "outputs": [],
   "source": [
    "skip_exists = True\n",
    "\n",
    "for s_path in [p for p in flickr_root.glob('*/*.jpg')] + [p for p in flickr_root.glob('*/*.JPG')]:\n",
    "    # TIF does not loose quality\n",
    "    d_path = flickr_crop_root / s_path.relative_to(flickr_root)\n",
    "    d_path = str(d_path).replace('jpg', 'tif')\n",
    "    if skip_exists and Path(d_path).exists():\n",
    "        continue\n",
    "    img = cv2.imread(str(s_path))\n",
    "    assert img is not None, s_path\n",
    "    h, w = img.shape[:2]\n",
    "    if img.ndim != 3:\n",
    "        print('{} dim {}, skip'.format(s_path, img.ndim))\n",
    "    if h < MIN_SIZE or w < MIN_SIZE:\n",
    "        print('{} size {}, skip'.format(s_path, (w,h)))\n",
    "        continue\n",
    "    sz = min(h, CROP), min(w, CROP)\n",
    "    img = CenterCrop(sz)(img)\n",
    "    cv2.imwrite(d_path, img)"
   ]
  },
  {
   "cell_type": "markdown",
   "metadata": {},
   "source": [
    "# FLICKR NEW"
   ]
  },
  {
   "cell_type": "code",
   "execution_count": 8,
   "metadata": {
    "collapsed": true
   },
   "outputs": [],
   "source": [
    "flickr_new_root = Path('/mnt/data/kaggle_camera/flickr_images_new')\n",
    "flickr_new_crop_root = Path('../data/external/flickr_new_images_{}'.format(CROP))\n",
    "\n",
    "try:\n",
    "    flickr_new_crop_root.mkdir()\n",
    "except FileExistsError:\n",
    "    print('!!! Will overwrite files, is it OK?')\n",
    "    \n",
    "for d in [d for d in flickr_new_root.iterdir() if d.is_dir()]:\n",
    "    (flickr_new_crop_root / d.stem).mkdir(exist_ok=True)\n",
    "    \n",
    "skip_exists = True\n",
    "\n",
    "for s_path in [flickr_new_root/p for p in (flickr_new_root/'good_jpgs_refined').read_text().splitlines()]:\n",
    "    # TIF does not loose quality\n",
    "    d_path = flickr_new_crop_root / s_path.relative_to(flickr_new_root)\n",
    "    d_path = str(d_path).replace('jpg', 'tif')\n",
    "    if skip_exists and Path(d_path).exists():\n",
    "        continue\n",
    "    img = cv2.imread(str(s_path))\n",
    "    assert img is not None, s_path\n",
    "    h, w = img.shape[:2]\n",
    "    if img.ndim != 3:\n",
    "        print('{} dim {}, skip'.format(s_path, img.ndim))\n",
    "    if h < MIN_SIZE or w < MIN_SIZE:\n",
    "        print('{} size {}, skip'.format(s_path, (w,h)))\n",
    "        continue\n",
    "    sz = min(h, CROP), min(w, CROP)\n",
    "    img = CenterCrop(sz)(img)\n",
    "    cv2.imwrite(d_path, img)"
   ]
  },
  {
   "cell_type": "markdown",
   "metadata": {},
   "source": [
    "# REVIEWS"
   ]
  },
  {
   "cell_type": "code",
   "execution_count": 4,
   "metadata": {},
   "outputs": [
    {
     "name": "stdout",
     "output_type": "stream",
     "text": [
      "!!! Will overwrite files, is it OK?\n"
     ]
    }
   ],
   "source": [
    "reviews_root = Path('../data/external/reviews_images')\n",
    "reviews_crop_root = Path('../data/external/reviews_images_{}'.format(CROP))\n",
    "\n",
    "try:\n",
    "    reviews_crop_root.mkdir()\n",
    "except FileExistsError:\n",
    "    print('!!! Will overwrite files, is it OK?')\n",
    "    \n",
    "for d in [d for d in reviews_root.iterdir() if d.is_dir()]:\n",
    "    (reviews_crop_root / d.stem).mkdir(exist_ok=True)"
   ]
  },
  {
   "cell_type": "code",
   "execution_count": 8,
   "metadata": {},
   "outputs": [
    {
     "name": "stdout",
     "output_type": "stream",
     "text": [
      "../data/external/reviews_images_orig/iphone_6\n",
      "../data/external/reviews_images_orig/sony_nex7\n",
      "../data/external/reviews_images_orig/moto_x\n",
      "../data/external/reviews_images_orig/samsung_note3\n",
      "../data/external/reviews_images_orig/nexus_6\n",
      "../data/external/reviews_images_orig/samsung_s4\n",
      "../data/external/reviews_images_orig/htc_m7\n",
      "../data/external/reviews_images_orig/nexus_5x\n",
      "../data/external/reviews_images_orig/moto_maxx\n",
      "../data/external/reviews_images_orig/iphone_4s\n"
     ]
    }
   ],
   "source": [
    "for class_dir in reviews_root.iterdir():\n",
    "    print(class_dir)\n",
    "    o_paths = [path for path in class_dir.glob('*.jpg')]\n",
    "    o_paths.extend([path for path in class_dir.glob('*.JPG')])\n",
    "    d_paths = [reviews_crop_root / class_dir.name / p.name for p in o_paths]\n",
    "    \n",
    "    (reviews_crop_root / class_dir.name).mkdir(exist_ok=True)\n",
    "    for o_path in o_paths:\n",
    "        # TIF does not loose quality\n",
    "        d_path = reviews_crop_root / class_dir.name / (o_path.stem + '.tif')\n",
    "        img = cv2.imread(str(o_path))\n",
    "        sz = min(img.shape[0], CROP), min(img.shape[1], CROP)\n",
    "        img = CenterCrop(sz)(img)\n",
    "        cv2.imwrite(str(d_path), img)"
   ]
  },
  {
   "cell_type": "markdown",
   "metadata": {},
   "source": [
    "### ORG"
   ]
  },
  {
   "cell_type": "raw",
   "metadata": {},
   "source": [
    "orig_dir = Path('../data/train_orig')\n",
    "crop_dir = Path('../data/train_{}'.format(CROP))\n",
    "\n",
    "try:\n",
    "    crop_dir.mkdir()\n",
    "except FileExistsError:\n",
    "    print('!!! Will overwrite files, is it OK?')"
   ]
  },
  {
   "cell_type": "raw",
   "metadata": {},
   "source": [
    "for class_dir in orig_dir.iterdir():\n",
    "    print(class_dir)\n",
    "    o_paths = [path for path in class_dir.glob('*.jpg')]\n",
    "    o_paths.extend([path for path in class_dir.glob('*.JPG')])\n",
    "    d_paths = [crop_dir / class_dir.name / p.name for p in o_paths]\n",
    "    \n",
    "    (crop_dir / class_dir.name).mkdir(exist_ok=True)\n",
    "    for o_path in o_paths:\n",
    "        # TIF does not loose quality\n",
    "        d_path = crop_dir / class_dir.name / (o_path.stem + '.tif')\n",
    "        img = cv2.imread(str(o_path))\n",
    "        sz = min(img.shape[0], CROP), min(img.shape[1], CROP)\n",
    "        img = CenterCrop(sz)(img)\n",
    "        cv2.imwrite(str(d_path), img)"
   ]
  },
  {
   "cell_type": "code",
   "execution_count": null,
   "metadata": {
    "collapsed": true
   },
   "outputs": [],
   "source": []
  }
 ],
 "metadata": {
  "kernelspec": {
   "display_name": "Python 3",
   "language": "python",
   "name": "python3"
  },
  "language_info": {
   "codemirror_mode": {
    "name": "ipython",
    "version": 3
   },
   "file_extension": ".py",
   "mimetype": "text/x-python",
   "name": "python",
   "nbconvert_exporter": "python",
   "pygments_lexer": "ipython3",
   "version": "3.5.2"
  }
 },
 "nbformat": 4,
 "nbformat_minor": 2
}
