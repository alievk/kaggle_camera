{
 "cells": [
  {
   "cell_type": "code",
   "execution_count": null,
   "metadata": {
    "collapsed": true
   },
   "outputs": [],
   "source": [
    "import cv2\n",
    "import os\n",
    "from pathlib import Path\n",
    "import sys\n",
    "sys.path.append('..')\n",
    "from augmentations import CenterCrop"
   ]
  },
  {
   "cell_type": "code",
   "execution_count": 28,
   "metadata": {
    "collapsed": true
   },
   "outputs": [],
   "source": [
    "CROP = 1024\n",
    "MIN_SIZE = 512"
   ]
  },
  {
   "cell_type": "markdown",
   "metadata": {},
   "source": [
    "### FLICKR"
   ]
  },
  {
   "cell_type": "code",
   "execution_count": 29,
   "metadata": {},
   "outputs": [],
   "source": [
    "flickr_root = Path('../data/external/flickr_images_orig')\n",
    "flickr_crop_root = Path('../data/external/flickr_images_{}'.format(CROP))\n",
    "\n",
    "try:\n",
    "    flickr_crop_root.mkdir()\n",
    "except FileExistsError:\n",
    "    print('!!! Will overwrite files, is it OK?')\n",
    "    \n",
    "for d in [d for d in flickr_root.iterdir() if d.is_dir()]:\n",
    "    (flickr_crop_root / d.stem).mkdir(exist_ok=True)"
   ]
  },
  {
   "cell_type": "code",
   "execution_count": 34,
   "metadata": {},
   "outputs": [],
   "source": [
    "skip_exists = False\n",
    "\n",
    "with open(str(flickr_root / 'good_jpgs_refined')) as f:\n",
    "    for s_path in [l.strip() for l in f.readlines()]:\n",
    "        # TIF does not loose quality\n",
    "        d_path = flickr_crop_root / s_path\n",
    "        d_path = str(d_path).replace('jpg', 'tif')\n",
    "        if skip_exists and Path(d_path).exists():\n",
    "            continue\n",
    "        s_path = str(flickr_root / s_path)\n",
    "        img = cv2.imread(s_path)\n",
    "        h, w = img.shape[:2]\n",
    "        if img.ndim != 3:\n",
    "            print('{} dim {}, skip'.format(s_path, img.ndim))\n",
    "        continue\n",
    "        if h < MIN_SIZE or w < MIN_SIZE:\n",
    "            print('{} size {}, skip'.format(s_path, (w,h)))\n",
    "            continue\n",
    "        sz = min(h, CROP), min(w, CROP)\n",
    "        img = CenterCrop(sz)(img)\n",
    "        cv2.imwrite(d_path, img)"
   ]
  },
  {
   "cell_type": "markdown",
   "metadata": {},
   "source": [
    "### ORG"
   ]
  },
  {
   "cell_type": "raw",
   "metadata": {},
   "source": [
    "orig_dir = Path('../data/train_orig')\n",
    "crop_dir = Path('../data/train_{}'.format(CROP))\n",
    "\n",
    "try:\n",
    "    crop_dir.mkdir()\n",
    "except FileExistsError:\n",
    "    print('!!! Will overwrite files, is it OK?')"
   ]
  },
  {
   "cell_type": "raw",
   "metadata": {},
   "source": [
    "for class_dir in orig_dir.iterdir():\n",
    "    print(class_dir)\n",
    "    o_paths = [path for path in class_dir.glob('*.jpg')]\n",
    "    o_paths.extend([path for path in class_dir.glob('*.JPG')])\n",
    "    d_paths = [crop_dir / class_dir.name / p.name for p in o_paths]\n",
    "    \n",
    "    (crop_dir / class_dir.name).mkdir(exist_ok=True)\n",
    "    for o_path in o_paths:\n",
    "        # TIF does not loose quality\n",
    "        d_path = crop_dir / class_dir.name / (o_path.stem + '.tif')\n",
    "        img = cv2.imread(str(o_path))\n",
    "        sz = min(img.shape[0], CROP), min(img.shape[1], CROP)\n",
    "        img = CenterCrop(sz)(img)\n",
    "        cv2.imwrite(str(d_path), img)"
   ]
  },
  {
   "cell_type": "code",
   "execution_count": null,
   "metadata": {
    "collapsed": true
   },
   "outputs": [],
   "source": []
  }
 ],
 "metadata": {
  "kernelspec": {
   "display_name": "Python 3",
   "language": "python",
   "name": "python3"
  },
  "language_info": {
   "codemirror_mode": {
    "name": "ipython",
    "version": 3
   },
   "file_extension": ".py",
   "mimetype": "text/x-python",
   "name": "python",
   "nbconvert_exporter": "python",
   "pygments_lexer": "ipython3",
   "version": "3.5.2"
  }
 },
 "nbformat": 4,
 "nbformat_minor": 2
}
