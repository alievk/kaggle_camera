{
 "cells": [
  {
   "cell_type": "code",
   "execution_count": null,
   "metadata": {},
   "outputs": [],
   "source": [
    "import cv2\n",
    "import os\n",
    "from pathlib import Path\n",
    "import sys\n",
    "sys.path.append('..')\n",
    "from augmentations import CenterCrop"
   ]
  },
  {
   "cell_type": "code",
   "execution_count": null,
   "metadata": {},
   "outputs": [],
   "source": [
    "CROP = 1024\n",
    "orig_dir = Path('../data/train_orig')\n",
    "crop_dir = Path('../data/train_{}'.format(CROP))\n",
    "\n",
    "try:\n",
    "    crop_dir.mkdir()\n",
    "except FileExistsError:\n",
    "    print('!!! Will overwrite files, is it OK?')"
   ]
  },
  {
   "cell_type": "code",
   "execution_count": null,
   "metadata": {},
   "outputs": [],
   "source": [
    "for class_dir in orig_dir.iterdir():\n",
    "    print(class_dir)\n",
    "    o_paths = [path for path in class_dir.glob('*.jpg')]\n",
    "    o_paths.extend([path for path in class_dir.glob('*.JPG')])\n",
    "    d_paths = [crop_dir / class_dir.name / p.name for p in o_paths]\n",
    "    \n",
    "    (crop_dir / class_dir.name).mkdir(exist_ok=True)\n",
    "    for o_path in o_paths:\n",
    "        # TIF does not loose quality\n",
    "        d_path = crop_dir / class_dir.name / (o_path.stem + '.tif')\n",
    "        img = cv2.imread(str(o_path))\n",
    "        sz = min(img.shape[0], CROP), min(img.shape[1], CROP)\n",
    "        img = CenterCrop(sz)(img)\n",
    "        cv2.imwrite(str(d_path), img)"
   ]
  },
  {
   "cell_type": "code",
   "execution_count": null,
   "metadata": {},
   "outputs": [],
   "source": []
  }
 ],
 "metadata": {
  "kernelspec": {
   "display_name": "kaggle_camera_env",
   "language": "python",
   "name": "kaggle_camera_env"
  },
  "language_info": {
   "codemirror_mode": {
    "name": "ipython",
    "version": 3
   },
   "file_extension": ".py",
   "mimetype": "text/x-python",
   "name": "python",
   "nbconvert_exporter": "python",
   "pygments_lexer": "ipython3",
   "version": "3.5.2"
  }
 },
 "nbformat": 4,
 "nbformat_minor": 2
}
