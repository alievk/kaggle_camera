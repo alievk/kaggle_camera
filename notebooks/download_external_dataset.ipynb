{
 "cells": [
  {
   "cell_type": "code",
   "execution_count": null,
   "metadata": {},
   "outputs": [],
   "source": [
    "from subprocess import call\n",
    "import os\n",
    "import glob\n",
    "from multiprocessing import Process\n",
    "\n",
    "pjoin = os.path.join\n",
    "\n",
    "cwd = os.getcwd()"
   ]
  },
  {
   "cell_type": "code",
   "execution_count": null,
   "metadata": {},
   "outputs": [],
   "source": [
    "# Download the reviews (validation) dataset\n",
    "\n",
    "os.chdir(pjoin(cwd, '../data/external/val_images'))\n",
    "\n",
    "prs = []\n",
    "for model in os.listdir('.'):\n",
    "    urls_file = [p for p in glob.glob(pjoin(model, 'urls_*'))]\n",
    "    assert len(urls_file) == 1\n",
    "    command = 'wget -i {} -P {}'.format(urls_file[0], model)\n",
    "    print(command)\n",
    "    p = Process(target=lambda cmd: call(cmd, shell=True), args=(command,))\n",
    "    p.start()\n",
    "    prs.append(p)\n",
    "\n",
    "for p in prs:\n",
    "    p.join()\n",
    "    print(p.name, 'done')"
   ]
  },
  {
   "cell_type": "code",
   "execution_count": null,
   "metadata": {},
   "outputs": [],
   "source": [
    "# Download the Flickr dataset\n",
    "\n",
    "os.chdir(pjoin(cwd, '../data/external/flickr_images'))\n",
    "\n",
    "prs = []\n",
    "for model in os.listdir('.'):\n",
    "    command = 'wget -i {} -P {}'.format(pjoin(model, 'urls_final'), model)\n",
    "    print(command)\n",
    "    p = Process(target=lambda cmd: call(cmd, shell=True), args=(command,))\n",
    "    p.start()\n",
    "    prs.append(p)\n",
    "\n",
    "for p in prs:\n",
    "    p.join()\n",
    "    print(p.name, 'done')"
   ]
  },
  {
   "cell_type": "code",
   "execution_count": null,
   "metadata": {},
   "outputs": [],
   "source": []
  }
 ],
 "metadata": {
  "kernelspec": {
   "display_name": "Python 2",
   "language": "python",
   "name": "python2"
  },
  "language_info": {
   "codemirror_mode": {
    "name": "ipython",
    "version": 2
   },
   "file_extension": ".py",
   "mimetype": "text/x-python",
   "name": "python",
   "nbconvert_exporter": "python",
   "pygments_lexer": "ipython2",
   "version": "2.7.12"
  }
 },
 "nbformat": 4,
 "nbformat_minor": 1
}
