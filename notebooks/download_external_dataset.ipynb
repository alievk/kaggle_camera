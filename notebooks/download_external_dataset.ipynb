{
 "cells": [
  {
   "cell_type": "code",
   "execution_count": null,
   "metadata": {
    "collapsed": true
   },
   "outputs": [],
   "source": [
    "from subprocess import call\n",
    "import os\n",
    "import glob\n",
    "from multiprocessing import Process\n",
    "from pathlib import Path"
   ]
  },
  {
   "cell_type": "code",
   "execution_count": null,
   "metadata": {},
   "outputs": [],
   "source": [
    "# Download the Flickr dataset\n",
    "\n",
    "flickr_root = Path('../data/external/flickr_images')\n",
    "\n",
    "f = open(str(flickr_root / 'good_jpgs'))\n",
    "good_jpgs = [Path(l.strip()).stem for l in f.readlines()]\n",
    "\n",
    "prs = []\n",
    "for model in [d for d in flickr_root.iterdir() if d.is_dir()]:\n",
    "    # pick 'good jpgs'\n",
    "    with open(str(model / 'urls_final')) as f_in:\n",
    "        urls = [l.strip() for l in f_in.readlines()]\n",
    "    urls_good = [url for url in urls if Path(url).stem in good_jpgs]\n",
    "    with open(str(model / 'urls_good'), 'w') as f_out:\n",
    "        for url in urls_good:\n",
    "            f_out.write(url + '\\n')\n",
    "\n",
    "    command = 'wget -i {} -P {}'.format(str(model / 'urls_good'), str(model))\n",
    "    print(command)\n",
    "    p = Process(target=lambda cmd: call(cmd, shell=True), args=(command,))\n",
    "    p.start()\n",
    "    prs.append(p)\n",
    "\n",
    "for p in prs:\n",
    "    p.join()\n",
    "    print(p.name, 'done')"
   ]
  },
  {
   "cell_type": "code",
   "execution_count": null,
   "metadata": {},
   "outputs": [],
   "source": [
    "# Download the reviews (validation) dataset\n",
    "\n",
    "images_root = Path('../data/external/val_images')\n",
    "\n",
    "prs = []\n",
    "for urls_file in images_root.glob('*/urls_*'):\n",
    "    command = 'wget -i {} -P {}'.format(str(urls_file), str(urls_file.parent))\n",
    "    print(command)\n",
    "    p = Process(target=lambda cmd: call(cmd, shell=True), args=(command,))\n",
    "    p.start()\n",
    "    prs.append(p)\n",
    "\n",
    "for p in prs:\n",
    "    p.join()\n",
    "    print(p.name, 'done')"
   ]
  },
  {
   "cell_type": "code",
   "execution_count": null,
   "metadata": {
    "collapsed": true
   },
   "outputs": [],
   "source": []
  }
 ],
 "metadata": {
  "kernelspec": {
   "display_name": "Python 3",
   "language": "python",
   "name": "python3"
  },
  "language_info": {
   "codemirror_mode": {
    "name": "ipython",
    "version": 3
   },
   "file_extension": ".py",
   "mimetype": "text/x-python",
   "name": "python",
   "nbconvert_exporter": "python",
   "pygments_lexer": "ipython3",
   "version": "3.5.2"
  }
 },
 "nbformat": 4,
 "nbformat_minor": 1
}
