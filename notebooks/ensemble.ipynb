{
 "cells": [
  {
   "cell_type": "code",
   "execution_count": 2,
   "metadata": {
    "collapsed": true
   },
   "outputs": [],
   "source": [
    "import pandas as pd\n",
    "import pickle\n",
    "import numpy as np\n",
    "from pathlib import Path\n",
    "from sklearn.metrics import confusion_matrix\n",
    "import matplotlib.pyplot as plt\n",
    "import itertools\n",
    "import shutil\n",
    "from torch.nn import Softmax\n",
    "\n",
    "%matplotlib inline"
   ]
  },
  {
   "cell_type": "code",
   "execution_count": 3,
   "metadata": {
    "collapsed": true
   },
   "outputs": [],
   "source": [
    "root = Path('../output/runs')\n",
    "\n",
    "CLASSES = ['HTC-1-M7', 'LG-Nexus-5x', 'Motorola-Droid-Maxx', 'Motorola-Nexus-6', 'Motorola-X',\n",
    "           'Samsung-Galaxy-Note3', 'Samsung-Galaxy-S4', 'Sony-NEX-7', 'iPhone-4s', 'iPhone-6']"
   ]
  },
  {
   "cell_type": "code",
   "execution_count": 4,
   "metadata": {
    "collapsed": true
   },
   "outputs": [],
   "source": [
    "def softmax(x):\n",
    "    \"\"\"Compute softmax values for each sets of scores in x.\"\"\"\n",
    "    e_x = np.exp(x - np.max(x, axis=1, keepdims=True))\n",
    "    return e_x / e_x.sum(axis=1, keepdims=True)"
   ]
  },
  {
   "cell_type": "code",
   "execution_count": 103,
   "metadata": {},
   "outputs": [],
   "source": [
    "#runs = ['densenet_ismanip','resnet101_ismanip','resnet50_ismanip','densenet121_final','resnet101_final','resnet50_final']\n",
    "#runs = ['resnet101_final','resnet50_final']\n",
    "suf = '_best_tta'\n",
    "\n",
    "images = [str(p) for p in Path('../data/test').glob('*.tif')]\n",
    "all_preds = []\n",
    "last_fnames = None\n",
    "for run in runs:\n",
    "    preds, fnames = pickle.load(open(str(root/run/('predict_test'+suf+'.pkl')),'rb'))\n",
    "    preds, fnames = np.vstack(preds), np.array(fnames)\n",
    "    assert last_fnames is None or np.all(last_fnames == fnames)\n",
    "    last_fnames = fnames\n",
    "    preds = softmax(preds)\n",
    "    all_preds.append(preds)\n",
    "\n",
    "avg_preds = np.dstack(all_preds).mean(axis=2)\n",
    "\n",
    "# for i in range(100):\n",
    "#     print(all_preds[0][i].argmax(),all_preds[1][i].argmax(),all_preds[2][i].argmax(),avg_preds[i].argmax())\n",
    "#     print()\n",
    "\n",
    "avg_preds = avg_preds.argmax(axis=1)\n",
    "fname = [Path(p).parts[-1] for p in images]\n",
    "cameras = [CLASSES[i] for i in avg_preds]\n",
    "\n",
    "pd.DataFrame({'fname': fname, 'camera': cameras}, columns=['fname', 'camera']).to_csv('../output/runs/ensemble0/predict_test'+suf+'.csv', index=False)"
   ]
  },
  {
   "cell_type": "code",
   "execution_count": null,
   "metadata": {
    "collapsed": true
   },
   "outputs": [],
   "source": []
  }
 ],
 "metadata": {
  "kernelspec": {
   "display_name": "kaggle camera env",
   "language": "python",
   "name": "kaggle_camera_env"
  },
  "language_info": {
   "codemirror_mode": {
    "name": "ipython",
    "version": 3
   },
   "file_extension": ".py",
   "mimetype": "text/x-python",
   "name": "python",
   "nbconvert_exporter": "python",
   "pygments_lexer": "ipython3",
   "version": "3.5.2"
  }
 },
 "nbformat": 4,
 "nbformat_minor": 2
}
