{
 "cells": [
  {
   "cell_type": "code",
   "execution_count": null,
   "metadata": {
    "collapsed": true
   },
   "outputs": [],
   "source": [
    "import matplotlib.pyplot as plt\n",
    "from pathlib import Path\n",
    "import numpy as np\n",
    "from dateutil.parser import parse as parse_time"
   ]
  },
  {
   "cell_type": "code",
   "execution_count": null,
   "metadata": {
    "collapsed": true
   },
   "outputs": [],
   "source": [
    "run_root = Path('../runs')"
   ]
  },
  {
   "cell_type": "code",
   "execution_count": null,
   "metadata": {
    "collapsed": true
   },
   "outputs": [],
   "source": [
    "def plot(run):\n",
    "    rows = []\n",
    "    with open(str(run_root / run / 'train.log')) as fh:\n",
    "        for stp in [l.strip() for l in fh.readlines()]:\n",
    "            rows.append(eval(stp))\n",
    "            \n",
    "    elpased = parse_time(rows[-1]['dt']) - parse_time(rows[0]['dt'])\n",
    "\n",
    "    train_loss = np.vstack([(r['step'], r['loss']) for r in rows if 'loss' in r])\n",
    "    valid_loss = np.vstack([(r['step'], r['valid_loss']) for r in rows if 'valid_loss' in r])\n",
    "    lr = np.vstack([(r['step'], r['lr']) for r in rows if 'lr' in r])\n",
    "    score = np.vstack([(r['step'], r['score']) for r in rows if 'score' in r])\n",
    "    \n",
    "    print('Time {}'.format(elpased))\n",
    "    \n",
    "    best_score = np.max(score[:, 1])\n",
    "    best_valid_loss = np.min(valid_loss[:, 1])\n",
    "    print('Best score {:4f}'.format(best_score))\n",
    "    print('Best valid loss {:4f}'.format(best_valid_loss))\n",
    "\n",
    "    plt.figure(figsize=(16,8))\n",
    "    plt.plot(train_loss[:,0], train_loss[:,1])\n",
    "    plt.plot(valid_loss[:,0], valid_loss[:,1])\n",
    "    plt.hlines(best_valid_loss, 0, np.max(valid_loss[-1, 0]))\n",
    "    plt.grid()\n",
    "    plt.legend(['train loss', 'valid loss', 'lr'])\n",
    "    plt.title(run)\n",
    "\n",
    "    plt.figure(figsize=(8,4))\n",
    "    plt.plot(score[:,0], score[:,1])\n",
    "    plt.hlines(best_score, 0, np.max(score[-1, 0]))\n",
    "    plt.grid()\n",
    "    plt.title('score')\n",
    "    \n",
    "    plt.figure(figsize=(8,4))\n",
    "    plt.plot(lr[:,0], lr[:,1], 'o')\n",
    "    plt.grid()\n",
    "    plt.title('lr')"
   ]
  },
  {
   "cell_type": "code",
   "execution_count": null,
   "metadata": {},
   "outputs": [],
   "source": [
    "!ls ../runs"
   ]
  },
  {
   "cell_type": "code",
   "execution_count": null,
   "metadata": {
    "collapsed": true
   },
   "outputs": [],
   "source": []
  }
 ],
 "metadata": {
  "kernelspec": {
   "display_name": "kaggle camera env",
   "language": "python",
   "name": "kaggle_camera_env"
  },
  "language_info": {
   "codemirror_mode": {
    "name": "ipython",
    "version": 3
   },
   "file_extension": ".py",
   "mimetype": "text/x-python",
   "name": "python",
   "nbconvert_exporter": "python",
   "pygments_lexer": "ipython3",
   "version": "3.5.2"
  }
 },
 "nbformat": 4,
 "nbformat_minor": 2
}
