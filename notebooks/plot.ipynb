{
 "cells": [
  {
   "cell_type": "code",
   "execution_count": null,
   "metadata": {},
   "outputs": [],
   "source": [
    "import matplotlib.pyplot as plt\n",
    "from pathlib import Path\n",
    "import numpy as np"
   ]
  },
  {
   "cell_type": "code",
   "execution_count": null,
   "metadata": {},
   "outputs": [],
   "source": [
    "run_root = Path('../runs')"
   ]
  },
  {
   "cell_type": "code",
   "execution_count": null,
   "metadata": {},
   "outputs": [],
   "source": [
    "def plot(run):\n",
    "    rows = []\n",
    "    with open(str(run_root / run / 'train.log')) as fh:\n",
    "        for stp in [l.strip() for l in fh.readlines()]:\n",
    "            rows.append(eval(stp))\n",
    "\n",
    "    train_loss = np.vstack([(r['step'], r['loss']) for r in rows if 'loss' in r])\n",
    "    valid_loss = np.vstack([(r['step'], r['valid_loss']) for r in rows if 'valid_loss' in r])\n",
    "    lr = np.vstack([(r['step'], r['lr']) for r in rows if 'lr' in r])\n",
    "    score = np.vstack([(r['step'], r['score']) for r in rows if 'score' in r])\n",
    "\n",
    "    plt.figure(figsize=(16,8))\n",
    "    plt.plot(train_loss[:,0], train_loss[:,1])\n",
    "    plt.plot(valid_loss[:,0], valid_loss[:,1])\n",
    "    plt.grid()\n",
    "    plt.legend(['train loss', 'valid loss', 'lr'])\n",
    "    plt.title(run)\n",
    "\n",
    "    plt.figure(figsize=(8,4))\n",
    "    plt.plot(score[:,0], score[:,1])\n",
    "    plt.grid()\n",
    "    plt.title('score')\n",
    "    \n",
    "    plt.figure(figsize=(8,4))\n",
    "    plt.plot(lr[:,0], lr[:,1], 'o')\n",
    "    plt.grid()\n",
    "    plt.title('lr')"
   ]
  },
  {
   "cell_type": "code",
   "execution_count": null,
   "metadata": {},
   "outputs": [],
   "source": [
    "plot('resnet50_lr_0.0002')"
   ]
  },
  {
   "cell_type": "code",
   "execution_count": null,
   "metadata": {},
   "outputs": [],
   "source": [
    "plot('resnet34')"
   ]
  },
  {
   "cell_type": "code",
   "execution_count": null,
   "metadata": {},
   "outputs": [],
   "source": [
    "plot('resnet18')"
   ]
  },
  {
   "cell_type": "code",
   "execution_count": null,
   "metadata": {},
   "outputs": [],
   "source": []
  }
 ],
 "metadata": {
  "kernelspec": {
   "display_name": "kaggle_camera_env",
   "language": "python",
   "name": "kaggle_camera_env"
  },
  "language_info": {
   "codemirror_mode": {
    "name": "ipython",
    "version": 3
   },
   "file_extension": ".py",
   "mimetype": "text/x-python",
   "name": "python",
   "nbconvert_exporter": "python",
   "pygments_lexer": "ipython3",
   "version": "3.5.2"
  }
 },
 "nbformat": 4,
 "nbformat_minor": 2
}
