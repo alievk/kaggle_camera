{
 "cells": [
  {
   "cell_type": "code",
   "execution_count": null,
   "metadata": {},
   "outputs": [],
   "source": [
    "import exifread\n",
    "from pathlib import Path\n",
    "from collections import defaultdict\n",
    "import numpy as np\n",
    "import json\n",
    "import pickle\n",
    "import cv2\n",
    "\n",
    "data_root = Path('../data/train_orig')"
   ]
  },
  {
   "cell_type": "code",
   "execution_count": null,
   "metadata": {},
   "outputs": [],
   "source": [
    "exif_per_model = defaultdict(list)\n",
    "for model in data_root.iterdir():\n",
    "    if not model.is_dir():\n",
    "        continue\n",
    "    print(model)\n",
    "    for p in model.iterdir():\n",
    "        with open(str(p), 'rb') as fh:\n",
    "            _tags = exifread.process_file(fh)\n",
    "            tags = {k: v for k, v in _tags.items() if 'thumbnail' not in k.lower()}\n",
    "            exif_per_model[str(model.stem)].append(tags)\n",
    "\n",
    "# pickle.dump(exif_per_model, open(str(data_root / 'exif_per_model.pkl'), 'wb'))"
   ]
  },
  {
   "cell_type": "code",
   "execution_count": null,
   "metadata": {},
   "outputs": [],
   "source": [
    "exif_per_model['iPhone-4s'][0]\n",
    "# [(k, v) for k, v in exif_per_model['iPhone-4s'][0].items() if 'comp' in k.lower()]"
   ]
  },
  {
   "cell_type": "raw",
   "metadata": {},
   "source": [
    "# Image sizes (not reliable)\n",
    "\n",
    "img_sizes = {}\n",
    "for model, exifs in exif_per_model.items():\n",
    "    sz = []\n",
    "    for exif in exifs:\n",
    "        sz.append([int(exif['EXIF ExifImageWidth'].__str__()), \n",
    "                   int(exif['EXIF ExifImageLength'].__str__())])\n",
    "    sz_uniq = np.unique(np.vstack(sz), axis=0)\n",
    "    img_sizes[model] = [list(x) for x in sz_uniq]\n",
    "        "
   ]
  },
  {
   "cell_type": "raw",
   "metadata": {},
   "source": [
    "# Image sizes (reliable)\n",
    "\n",
    "img_sizes = {}\n",
    "for model in data_root.iterdir():\n",
    "    if not model.is_dir():\n",
    "        continue\n",
    "    print(model)\n",
    "    sz = []\n",
    "    imgs = [p for p in model.glob('*.jpg')]\n",
    "    imgs.extend([p for p in model.glob('*.JPG')])\n",
    "    for i, p in enumerate(imgs):\n",
    "        sz.append(list(cv2.imread(str(p)).shape[:2]))\n",
    "    sz_un = np.unique(np.vstack(sz), axis=0)\n",
    "    img_sizes[str(model.stem)] = sz_un\n",
    "    print(sz_un)"
   ]
  },
  {
   "cell_type": "raw",
   "metadata": {},
   "source": [
    "pickle.dump(img_sizes, open('../data/train_orig/img_sizes.pkl', 'wb'))"
   ]
  },
  {
   "cell_type": "code",
   "execution_count": null,
   "metadata": {},
   "outputs": [],
   "source": [
    "img_sizes"
   ]
  },
  {
   "cell_type": "code",
   "execution_count": null,
   "metadata": {},
   "outputs": [],
   "source": [
    "def get_props(prop, unique=True):\n",
    "    out = {}\n",
    "    for model, exifs in exif_per_model.items():\n",
    "        props = [e[prop].__str__() for e in exifs if prop in e]\n",
    "        out[model] = set(props) if unique else props\n",
    "    return out"
   ]
  },
  {
   "cell_type": "code",
   "execution_count": null,
   "metadata": {},
   "outputs": [],
   "source": [
    "vals=get_props('Image Orientation', False)\n",
    "for k,v in vals.items():\n",
    "    print(k,np.unique(v,return_counts=True))"
   ]
  },
  {
   "cell_type": "code",
   "execution_count": null,
   "metadata": {},
   "outputs": [],
   "source": [
    "get_props('EXIF FocalLength')"
   ]
  },
  {
   "cell_type": "code",
   "execution_count": null,
   "metadata": {},
   "outputs": [],
   "source": [
    "get_props('Image Model')\n",
    "#pickle.dump(get_props('Image Model'), open(str(data_root / 'image_models.pkl'), 'wb'))"
   ]
  },
  {
   "cell_type": "code",
   "execution_count": null,
   "metadata": {},
   "outputs": [],
   "source": [
    "get_props('Image Make')\n",
    "#pickle.dump(get_props('Image Make'), open(str(data_root / 'image_makes.pkl'), 'wb'))"
   ]
  }
 ],
 "metadata": {
  "kernelspec": {
   "display_name": "kaggle_camera_env",
   "language": "python",
   "name": "kaggle_camera_env"
  },
  "language_info": {
   "codemirror_mode": {
    "name": "ipython",
    "version": 3
   },
   "file_extension": ".py",
   "mimetype": "text/x-python",
   "name": "python",
   "nbconvert_exporter": "python",
   "pygments_lexer": "ipython3",
   "version": "3.5.2"
  }
 },
 "nbformat": 4,
 "nbformat_minor": 2
}
