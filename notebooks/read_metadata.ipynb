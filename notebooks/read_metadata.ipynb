{
 "cells": [
  {
   "cell_type": "code",
   "execution_count": 1,
   "metadata": {
    "collapsed": true
   },
   "outputs": [],
   "source": [
    "import exifread\n",
    "from pathlib import Path\n",
    "from collections import defaultdict\n",
    "import numpy as np\n",
    "import json\n",
    "import pickle\n",
    "import cv2\n",
    "\n",
    "data_root = Path('../data/train_orig')"
   ]
  },
  {
   "cell_type": "code",
   "execution_count": 3,
   "metadata": {},
   "outputs": [
    {
     "name": "stdout",
     "output_type": "stream",
     "text": [
      "../data/train_orig/Sony-NEX-7\n",
      "../data/train_orig/iPhone-4s\n",
      "../data/train_orig/HTC-1-M7\n",
      "../data/train_orig/LG-Nexus-5x\n",
      "../data/train_orig/Samsung-Galaxy-S4\n",
      "../data/train_orig/Samsung-Galaxy-Note3\n",
      "../data/train_orig/iPhone-6\n",
      "../data/train_orig/Motorola-Droid-Maxx\n",
      "../data/train_orig/Motorola-Nexus-6\n",
      "../data/train_orig/Motorola-X\n"
     ]
    }
   ],
   "source": [
    "exif_per_model = defaultdict(list)\n",
    "for model in data_root.iterdir():\n",
    "    if not model.is_dir():\n",
    "        continue\n",
    "    print(model)\n",
    "    for p in model.iterdir():\n",
    "        with open(str(p), 'rb') as fh:\n",
    "            _tags = exifread.process_file(fh)\n",
    "            tags = {k: v for k, v in _tags.items() if 'thumbnail' not in k.lower()}\n",
    "            exif_per_model[str(model.stem)].append(tags)\n",
    "\n",
    "pickle.dump(exif_per_model, open(str(data_root / 'exif_per_model.pkl'), 'wb'))"
   ]
  },
  {
   "cell_type": "code",
   "execution_count": null,
   "metadata": {
    "collapsed": true
   },
   "outputs": [],
   "source": [
    "exif_per_model['iPhone-4s'][0]\n",
    "# [(k, v) for k, v in exif_per_model['iPhone-4s'][0].items() if 'comp' in k.lower()]"
   ]
  },
  {
   "cell_type": "raw",
   "metadata": {},
   "source": [
    "# Image sizes (not reliable)\n",
    "\n",
    "img_sizes = {}\n",
    "for model, exifs in exif_per_model.items():\n",
    "    sz = []\n",
    "    for exif in exifs:\n",
    "        sz.append([int(exif['EXIF ExifImageWidth'].__str__()), \n",
    "                   int(exif['EXIF ExifImageLength'].__str__())])\n",
    "    sz_uniq = np.unique(np.vstack(sz), axis=0)\n",
    "    img_sizes[model] = [list(x) for x in sz_uniq]\n",
    "        "
   ]
  },
  {
   "cell_type": "raw",
   "metadata": {},
   "source": [
    "# Image sizes (reliable)\n",
    "\n",
    "img_sizes = {}\n",
    "for model in data_root.iterdir():\n",
    "    if not model.is_dir():\n",
    "        continue\n",
    "    print(model)\n",
    "    sz = []\n",
    "    imgs = [p for p in model.glob('*.jpg')]\n",
    "    imgs.extend([p for p in model.glob('*.JPG')])\n",
    "    for i, p in enumerate(imgs):\n",
    "        sz.append(list(cv2.imread(str(p)).shape[:2]))\n",
    "    sz_un = np.unique(np.vstack(sz), axis=0)\n",
    "    img_sizes[str(model.stem)] = sz_un\n",
    "    print(sz_un)"
   ]
  },
  {
   "cell_type": "raw",
   "metadata": {},
   "source": [
    "pickle.dump(img_sizes, open('../data/train_orig/img_sizes.pkl', 'wb'))"
   ]
  },
  {
   "cell_type": "code",
   "execution_count": null,
   "metadata": {
    "collapsed": true
   },
   "outputs": [],
   "source": [
    "img_sizes"
   ]
  },
  {
   "cell_type": "code",
   "execution_count": 9,
   "metadata": {
    "collapsed": true
   },
   "outputs": [],
   "source": [
    "def get_props(prop, unique=True):\n",
    "    out = {}\n",
    "    for model, exifs in exif_per_model.items():\n",
    "        props = [e[prop].__str__() for e in exifs if prop in e]\n",
    "        out[model] = set(props) if unique else props\n",
    "    return out"
   ]
  },
  {
   "cell_type": "code",
   "execution_count": null,
   "metadata": {
    "collapsed": true
   },
   "outputs": [],
   "source": [
    "vals=get_props('Image Orientation', False)\n",
    "for k,v in vals.items():\n",
    "    print(k,np.unique(v,return_counts=True))"
   ]
  },
  {
   "cell_type": "code",
   "execution_count": 6,
   "metadata": {},
   "outputs": [
    {
     "data": {
      "text/plain": [
       "{'HTC-1-M7': {'191/50'},\n",
       " 'LG-Nexus-5x': {'467/100'},\n",
       " 'Motorola-Droid-Maxx': {'4499/1000'},\n",
       " 'Motorola-Nexus-6': {'191/50'},\n",
       " 'Motorola-X': {'847/200'},\n",
       " 'Samsung-Galaxy-Note3': {'413/100'},\n",
       " 'Samsung-Galaxy-S4': {'21/5'},\n",
       " 'Sony-NEX-7': {'16',\n",
       "  '17',\n",
       "  '18',\n",
       "  '19',\n",
       "  '20',\n",
       "  '21',\n",
       "  '22',\n",
       "  '23',\n",
       "  '24',\n",
       "  '26',\n",
       "  '27',\n",
       "  '28',\n",
       "  '29',\n",
       "  '31',\n",
       "  '32',\n",
       "  '33',\n",
       "  '34',\n",
       "  '35',\n",
       "  '37',\n",
       "  '38',\n",
       "  '40',\n",
       "  '41',\n",
       "  '42',\n",
       "  '45',\n",
       "  '46',\n",
       "  '47',\n",
       "  '49',\n",
       "  '50'},\n",
       " 'iPhone-4s': {'107/25'},\n",
       " 'iPhone-6': {'83/20'}}"
      ]
     },
     "execution_count": 6,
     "metadata": {},
     "output_type": "execute_result"
    }
   ],
   "source": [
    "get_props('EXIF FocalLength')"
   ]
  },
  {
   "cell_type": "code",
   "execution_count": 11,
   "metadata": {},
   "outputs": [
    {
     "name": "stdout",
     "output_type": "stream",
     "text": [
      "=== Samsung-Galaxy-S4 ===\n",
      "SCH-I545 x 275\n",
      "=== Samsung-Galaxy-Note3 ===\n",
      "SAMSUNG-SM-N900A x 275\n",
      "=== Sony-NEX-7 ===\n",
      "NEX-7 x 275\n",
      "=== Motorola-Droid-Maxx ===\n",
      "XT1080 x 275\n",
      "=== LG-Nexus-5x ===\n",
      "Nexus 5X x 275\n",
      "=== Motorola-X ===\n",
      "XT1096 x 275\n",
      "=== HTC-1-M7 ===\n",
      "HTC One x 253\n",
      "HTC6500LVW x 22\n",
      "=== iPhone-4s ===\n",
      "iPhone 4S x 275\n",
      "=== iPhone-6 ===\n",
      "iPhone 6 x 275\n",
      "=== Motorola-Nexus-6 ===\n",
      "Nexus 6 x 275\n"
     ]
    }
   ],
   "source": [
    "props = get_props('Image Model', unique=False)\n",
    "for k, v in props.items():\n",
    "    print('='*3, k, '='*3)\n",
    "    for vv, count in zip(*np.unique(v, return_counts=1)):\n",
    "        print(vv, 'x', count)\n",
    "\n",
    "#pickle.dump(get_props('Image Model'), open(str(data_root / 'image_models.pkl'), 'wb'))"
   ]
  },
  {
   "cell_type": "code",
   "execution_count": null,
   "metadata": {
    "collapsed": true
   },
   "outputs": [],
   "source": [
    "get_props('Image Make')\n",
    "#pickle.dump(get_props('Image Make'), open(str(data_root / 'image_makes.pkl'), 'wb'))"
   ]
  }
 ],
 "metadata": {
  "kernelspec": {
   "display_name": "kaggle camera env",
   "language": "python",
   "name": "kaggle_camera_env"
  },
  "language_info": {
   "codemirror_mode": {
    "name": "ipython",
    "version": 3
   },
   "file_extension": ".py",
   "mimetype": "text/x-python",
   "name": "python",
   "nbconvert_exporter": "python",
   "pygments_lexer": "ipython3",
   "version": "3.5.2"
  }
 },
 "nbformat": 4,
 "nbformat_minor": 2
}
